{
 "cells": [
  {
   "cell_type": "markdown",
   "metadata": {
    "Collapsed": "false"
   },
   "source": [
    "# Why do we need version control?\n"
   ]
  },
  {
   "cell_type": "markdown",
   "metadata": {
    "Collapsed": "false"
   },
   "source": [
    "## Because this.... \n",
    "![image](img/phd_final_doc.png)\n",
    "\n",
    "## ... leads to this \n",
    "![image](img/phd_story_told_infilenames.gif)"
   ]
  },
  {
   "cell_type": "markdown",
   "metadata": {
    "Collapsed": "false"
   },
   "source": [
    "# Version management best practices\n"
   ]
  },
  {
   "cell_type": "markdown",
   "metadata": {
    "Collapsed": "false"
   },
   "source": [
    "## Why is version management important? \n"
   ]
  },
  {
   "cell_type": "markdown",
   "metadata": {
    "jupyter": {
     "source_hidden": true
    }
   },
   "source": [
    "- Possible to revert back to a working version if things broke.\n",
    "- Benefit team collaboration.\n",
    "- Improve efficiency."
   ]
  },
  {
   "cell_type": "markdown",
   "metadata": {
    "Collapsed": "false"
   },
   "source": [
    "## How should we manage changes? \n",
    "\n",
    "### Keeping track of changes: \n",
    "\n"
   ]
  },
  {
   "cell_type": "markdown",
   "metadata": {
    "jupyter": {
     "source_hidden": true
    }
   },
   "source": [
    "- Back up (almost) everything created by a human as soon as it is created.\n",
    "- Keep changes small.\n",
    "- Share changes frequently.\n",
    "- Create, maintain and use a checklist for saving and sharing changes to the project. \n",
    "- Store each project in a folder that is mirrored off the researchers' working machine.  \n",
    "\n",
    "\n",
    "\n",
    "This list comes from \"Keeping track of changes\" in swcarpentry's paper [good-enough practices in scientific computing](https://swcarpentry.github.io/good-enough-practices-in-scientific-computing/).\n",
    "\n",
    "</div>\n",
    "</div>"
   ]
  },
  {
   "cell_type": "markdown",
   "metadata": {
    "Collapsed": "false"
   },
   "source": [
    "## Exercise 1: Manual versioning \n",
    "\n",
    "Versions can be managed either by hand or by using a Version Control System (VCS). To illustrate the workings of a VCS we start an excercise using manual versioning. \n",
    "The goals of this excercise are: \n",
    "- Practice with versioning best practices\n",
    "- Understand the limitations of manual version management\n",
    "\n"
   ]
  },
  {
   "cell_type": "markdown",
   "metadata": {
    "Collapsed": "false"
   },
   "source": [
    "## 1A Setting up the project \n",
    "We have set up a shared folder on the JupyterHub used for this course that is accessible to all participants of the course. \n",
    "1. Go to the shared folder and create a folder named `simple_trigonometry_YOURNAME` where you replace YOURNAME with your name. This folder is your project folder. \n",
    "1. Add a file called `CHANGELOG.txt` to your project folder with timestamped changes to your project. \n",
    "1. Create a subfolder called `current` which is your latest version of your project. "
   ]
  },
  {
   "cell_type": "markdown",
   "metadata": {
    "Collapsed": "false"
   },
   "source": [
    "## 1B Single user version tracking \n",
    "\n",
    "Whenever you make a significant change \n",
    "1. Copy the entire project (`current` folder) to a directory that is datetimestamped. \n",
    "2. Update `CHANGELOG.txt` with a timestamped note on the changes. \n",
    "\n",
    "This will result in your project folder looking like this: \n",
    "```\n",
    ".\n",
    "|-- project_name\n",
    "|   -- current\n",
    "|       -- ...project content as described earlier...\n",
    "|   -- 171106_130000\n",
    "|       -- ...content of 'current' on Nov 6, 2017 1pm \n",
    "|   -- 171108_110000\n",
    "|       -- ...content of 'current' on Nov 8, 2017 11am \n",
    "```\n",
    "\n",
    "And your `CHANGELOG.txt` to look something like this: \n",
    "```\n",
    "## 2016-04-08\n",
    "\n",
    "* Switched to cubic interpolation as default.\n",
    "* Moved question about family's TB history to end of questionnaire.\n",
    "\n",
    "## 2016-04-06\n",
    "\n",
    "* Added option for cubic interpolation.\n",
    "* Removed question about staph exposure (can be inferred from blood test results).\n",
    "```"
   ]
  },
  {
   "cell_type": "markdown",
   "metadata": {
    "Collapsed": "false"
   },
   "source": [
    "3. Create a new file called `test.py` \n",
    "    * Add the text `print('hello world')` "
   ]
  },
  {
   "cell_type": "markdown",
   "metadata": {
    "Collapsed": "false"
   },
   "source": [
    "## 1C Practice basic version control using trigonometry\n",
    "\n",
    "Add your changes every time you finish a bulletpoint. \n",
    "* Add a function to `test.py` to calculate the circumference of a circle. Add your changes. \n",
    "* Add a function to `test.py` to calculate the surface area of a circle. Add your changes. \n",
    "* Create a new file called `script.py` that is empty. Add your changes. \n",
    "* Add some print statement to `script.py` and execute it. Add your changes. \n",
    "* Import `test.py` into `script.py` and call the functions in `test.py` and print the output. Add your changes. "
   ]
  },
  {
   "cell_type": "markdown",
   "metadata": {
    "Collapsed": "false"
   },
   "source": [
    "## 1D collaborating on a project, resolving conflicts\n",
    "\n",
    "\n",
    "### Find yourself a partner (ask person next to you) \n",
    "* Both agree on which of the two project folders you will continue to work.\n",
    "  **for the rest of this exercise both of you will work in a single project folder**.\n",
    "\n",
    "### Creating and resolving a conflict\n",
    "* Person A make a temporary copy of `test.py` called `test_A.py`, and person B make a temporary copy of `test.py` called `test_B.py`.\n",
    "* Person A and B each edit their temporary copies:\n",
    "  + Person A adds a docstring to the function that calculates the circumference of the circle.\n",
    "  + Person B adds a docstring to the function that calculates the surface of the circle.\n",
    "* Person A and B now collaborate to merge the files `test_A.py` and `test_B.py`, so as to incorporate both their individual changes, and save the result into the original file `test.py`.\n",
    "* Think about how you would do this if each of you were making more complex changes. What about if you were both editing the same lines?\n",
    "\n",
    "### More practice (optional) \n",
    "* Both work on the same repository, use `script.py` to test your functionality. \n",
    "* Add a function that plots a circle \n",
    "* Add save to `png` functionality to the plot function\n",
    "* Make the plotting function more fancy (add units, labels etc) \n",
    "* Add surface calculation for other shapes (triangle, square, pentagon, hexagon ... ) \n",
    "* Add circumference calculation for same shapes. \n",
    "\n",
    "N.B. Once frustration sets in for enough people we will move on to Git. "
   ]
  },
  {
   "cell_type": "markdown",
   "metadata": {
    "Collapsed": "false"
   },
   "source": [
    "### End of exercise 1"
   ]
  },
  {
   "cell_type": "markdown",
   "metadata": {
    "Collapsed": "false"
   },
   "source": [
    "## Problems with manual version control \n",
    "- It requires a lot of discipline \n",
    "- It is virtually impossible to resolve conflicts"
   ]
  },
  {
   "cell_type": "markdown",
   "metadata": {
    "Collapsed": "false"
   },
   "source": [
    "# What is Git ?\n",
    "\n",
    "\n",
    "## Git is a *distributed* version control system (VCS) that automates everything\n",
    "\n",
    "\n",
    "![image](img/Git-Logo.png)\n",
    "\n",
    "references: [git book](https://git-scm.com/book/en/v2)"
   ]
  },
  {
   "cell_type": "markdown",
   "metadata": {
    "Collapsed": "false"
   },
   "source": [
    "## VCS store all historical versions of a file \n",
    "Git stores snapshots called **commits**\n",
    "\n",
    "The differences between files in 2 commits are human readable if they are text files (e.g., `.txt`, `.py`, `.tex`)\n",
    "\n",
    "![image](https://git-scm.com/book/en/v2/book/01-introduction/images/local.png)"
   ]
  },
  {
   "cell_type": "markdown",
   "metadata": {
    "Collapsed": "false"
   },
   "source": [
    "## Central authority \n",
    "For collaborating on code or papers it is useful to have a central authoritative version \n",
    "* Know what the latest version is \n",
    "* Know what other peopler are working on \n",
    "* Easier to maintain than emailing around versions\n",
    "\n",
    "![image](https://git-scm.com/book/en/v2/book/01-introduction/images/centralized.png)\n"
   ]
  },
  {
   "cell_type": "markdown",
   "metadata": {
    "Collapsed": "false"
   },
   "source": [
    "\n",
    "## Git is a \"distributed\" VCS\n",
    "* Every copy of the repository contains the complete history \n",
    "* You can keep working if the internet is down \n",
    "* You don't lose your data (and history) if the server dies \n",
    "\n",
    "![image](https://git-scm.com/book/en/v2/book/01-introduction/images/distributed.png)\n"
   ]
  },
  {
   "cell_type": "markdown",
   "metadata": {},
   "source": [
    "## A git \"repository\" is a folder which has files it keeps track of\n",
    "\n",
    "* You choose which files to track\n",
    "* Looks like a normal folder *but* there is a hidden folder (`.git`) inside with the history"
   ]
  },
  {
   "cell_type": "markdown",
   "metadata": {
    "Collapsed": "false"
   },
   "source": [
    "## GitHub is a web-based Git repository hosting service\n",
    "\n",
    "![image](img/GitHub.jpg)\n",
    "\n",
    "* Web hosting\n",
    "* Open issues / bug reports\n",
    "* Suggest changes to projects\n",
    "* Free-private repositories for academic users\n",
    "* Conventient tools \n",
    "    * Diff viewer\n",
    "    * Commit browser"
   ]
  },
  {
   "cell_type": "markdown",
   "metadata": {
    "Collapsed": "false"
   },
   "source": [
    "## Excercise 2: Basic single user git  \n",
    "\n",
    "* Setting up a new git repository using github + clone \n",
    "* A basic single user workflow involving: commiting, pulling and pushing your changes \n"
   ]
  },
  {
   "cell_type": "markdown",
   "metadata": {},
   "source": [
    "## 2A setting up git settings\n",
    "\n",
    "_Only need to do this once (per machine)!_"
   ]
  },
  {
   "cell_type": "markdown",
   "metadata": {
    "Collapsed": "false"
   },
   "source": [
    "* Set up your git [config](https://git-scm.com/docs/git-config) \n",
    "    *   `git config --global user.email \"you@example.com\"`                \n",
    "    *   `git config --global user.name \"Your Name\"` \n",
    "    * You can check your config using `git config --list`. Use this to check if you are now pointing to your repository on GitHub"
   ]
  },
  {
   "cell_type": "markdown",
   "metadata": {
    "Collapsed": "false"
   },
   "source": [
    "* Add your SSH public key to your GitHub account to allow you to access your repository without entering a password every time\n",
    "  * We have pre-generated an SSH key for you to use during this course. You will find the public part of the key in your home directory in the file `id_rsa.pub` (find instructions how to do that yourself [here](https://help.github.com/en/enterprise/2.17/user/authenticating-to-github/generating-a-new-ssh-key-and-adding-it-to-the-ssh-agent))\n",
    "  * Click on the file `id_rsa.pub` in the file browser to open it\n",
    "  * Copy the contents of this file to the clipboard with `Ctrl-C`\n",
    "  * Go to https://github.com/settings/keys and click the `New SSH key` button\n",
    "  * Paste the contents of `id_rsa.pub` into the text area labeled `Key`. You may enter anything you like into the `title` field (e.g. `casimir course jupyterhub`)"
   ]
  },
  {
   "cell_type": "markdown",
   "metadata": {
    "Collapsed": "false"
   },
   "source": [
    "## 2B setting up a project\n",
    "* Create new repository on github. \n",
    "    * Go to GitHub and log in \n",
    "    * Click create a new repository \n",
    "    * Name it : \"Casimir-programming\"\n",
    "    * Add `readme.md`\n",
    "    * add [`.gitignore`](https://git-scm.com/docs/gitignore)\n",
    "    * add a license (e.g., MIT) (optional) "
   ]
  },
  {
   "cell_type": "markdown",
   "metadata": {
    "Collapsed": "false"
   },
   "source": [
    "* **[clone](https://git-scm.com/docs/git-clone)** the repository into your home directory\n",
    "    * Go to the page for your `Casimir-programming` repository on GitHub\n",
    "    * Click the `Clone or download` button\n",
    "    * Verify that the popup title is `Clone with SSH`. If it is `Clone with HTTPS` click on the `Use SSH` link in the corner of the popup\n",
    "    * Copy the URL in the text field of the popup. It should look like `git@github.com:...`\n",
    "    * Open a terminal and type `git clone `, then paste the URL that you copied from GitHub, then hit Enter.\n",
    "    * This will create a copy of the entire repository in a new folder"
   ]
  },
  {
   "cell_type": "markdown",
   "metadata": {
    "Collapsed": "false"
   },
   "source": [
    "## 2B My first commit \n",
    "* Create a new file called `test.py` \n",
    "    * Add the text `print('hello world')` \n",
    "* Commit and sync your changes \n",
    "    * Type `git status`\n",
    "    * Type `git add test.py`\n",
    "    * Type `git commit -m 'my first commit'`\n",
    "    * Type `git pull` \n",
    "    * Type `git push` \n",
    "* View the [commit history](https://git-scm.com/book/en/v2/Git-Basics-Viewing-the-Commit-History)\n",
    "    * Using the terminal \n",
    "        * Type `git log`. See if you understand what you see. \n",
    "        * Type `git log -p -2`. This shows the changes introduced by the last 2 commits \n",
    "        * Take a look at the [\"Viewing the Commit History](https://git-scm.com/book/en/v2/Git-Basics-Viewing-the-Commit-History) to see other useful options\n",
    "    * Using GitHub\n",
    "        * Click on Commits, open your latest commit. \n",
    "            * Click browse files to browse your code at the time of the commit. \n",
    "        * Go to Graphs/network, this shows you a line with all comits. \n",
    "            * Very useful once we move on to multi-user workflows. \n",
    "        * Open a file and check out [history](https://help.github.com/articles/differences-between-commit-views/)\n",
    "            * this shows a list of all commits that changed that specific file. \n",
    "        * Open a file and look at [blame](https://github.com/blog/228-playing-the-blame-game)\n",
    "    \n",
    "    "
   ]
  },
  {
   "cell_type": "markdown",
   "metadata": {
    "Collapsed": "false"
   },
   "source": [
    "## 2C Practice basic git using trigonometry\n",
    "\n",
    "Commit your changes every time you finish a bulletpoint. Use the flowchart shown below. \n",
    "* Add a function to test.py to calculate the circumference of a circle. Commit your changes. \n",
    "* Add a function to test.py to calculate the surface area of a circle. Commit your changes. \n",
    "* Create a new file called script.py that is empty. Commit your changes. \n",
    "* Add some print statement to script.py and execute it. Commit your changes. \n",
    "* Import test.py into script.py and call the functions in test.py and print the output. Commit your changes. \n",
    "\n",
    "* Take a look at your repository on GitHub to see an overview of your work"
   ]
  },
  {
   "cell_type": "markdown",
   "metadata": {
    "Collapsed": "false"
   },
   "source": [
    "### End of excercise 2"
   ]
  },
  {
   "cell_type": "markdown",
   "metadata": {
    "Collapsed": "false"
   },
   "source": [
    "## Git-Flow chart\n",
    "There is a git flowchart (in pdf, pptx and png) in the day3/img folder.  \n",
    "**! N.B. Avoid using the GitHub App, it gets you into all kinds of trouble! **\n",
    "\n",
    "![image](img/GitFlowchart.png)"
   ]
  },
  {
   "cell_type": "markdown",
   "metadata": {
    "Collapsed": "false"
   },
   "source": [
    "## Excercise 3: Multiple users, resolving conflicts \n",
    "\n",
    "* Working with multiple users on a single branch\n",
    "* Resolving conflicts\n"
   ]
  },
  {
   "cell_type": "markdown",
   "metadata": {
    "Collapsed": "false"
   },
   "source": [
    "\n",
    "### Find yourself a partner (ask person next to you) \n",
    "### Add your partner as a collaborator \n",
    "* Go to the repository of person A on github. \n",
    "* Go to settings/collaborators. Enter the GitHub ID of person Band make them a collaborator (write access). \n",
    "* Person B clones the repository of person A (look at exercise 1a if you forgot) \n",
    "\n",
    "### Creating and resolving a conflict \n",
    "* Both persons will add a docstring (with the triple quotes) to the function that calculates the surface of the circle\n",
    "* Person A commits pulls and pushes. \n",
    "* Person B commits and pulls, this will raise a conflict. Resolve this conflict. \n",
    "* Look at the GitHub network graph to see what happened. \n",
    "\n",
    "### More practice \n",
    "* Both work on the same repository, use script.py to test your functionality. \n",
    "* Add a function that plots a circle \n",
    "* Add save to png functionality to the plot function\n",
    "* Make the plotting function more fancy (add units, labels etc) \n",
    "* Add surface calculation for other shapes (triangle, square, pentagon, hexagon ... ) \n",
    "* Add circumference calculation for same shapes. \n",
    "\n"
   ]
  },
  {
   "cell_type": "code",
   "execution_count": null,
   "metadata": {},
   "outputs": [],
   "source": []
  }
 ],
 "metadata": {
  "kernelspec": {
   "display_name": "Python 3",
   "language": "python",
   "name": "python3"
  },
  "language_info": {
   "codemirror_mode": {
    "name": "ipython",
    "version": 3
   },
   "file_extension": ".py",
   "mimetype": "text/x-python",
   "name": "python",
   "nbconvert_exporter": "python",
   "pygments_lexer": "ipython3",
   "version": "3.7.4"
  }
 },
 "nbformat": 4,
 "nbformat_minor": 4
}
